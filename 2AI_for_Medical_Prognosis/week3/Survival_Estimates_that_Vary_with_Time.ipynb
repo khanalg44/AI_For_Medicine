{
 "cells": [
  {
   "cell_type": "markdown",
   "metadata": {
    "colab_type": "text",
    "id": "3Q2KuaRamHfr"
   },
   "source": [
    "# Survival Estimates that Vary with Time\n",
    "\n",
    "Welcome to the third assignment of Course 2. In this assignment, we'll use Python to build some of the statistical models we learned this past week to analyze surivival estimates for a dataset of lymphoma patients. We'll also evaluate these models and interpret their outputs. Along the way, you will be learning about the following: \n",
    "\n",
    "- Censored Data\n",
    "- Kaplan-Meier Estimates\n",
    "- Subgroup Analysis"
   ]
  },
  {
   "cell_type": "markdown",
   "metadata": {},
   "source": [
    "## Outline\n",
    "\n",
    "- [1. Import Packages](#1)\n",
    "- [2. Load the Dataset](#2)\n",
    "- [3. Censored Data](#)\n",
    "    - [Exercise 1](#Ex-1)\n",
    "- [4. Survival Estimates](#4)\n",
    "    - [Exercise 2](#Ex-2)\n",
    "    - [Exercise 3](#Ex-3)\n",
    "- [5. Subgroup Analysis](#5)\n",
    "    - [5.1 Bonus: Log Rank Test](#5-1)"
   ]
  },
  {
   "cell_type": "markdown",
   "metadata": {
    "colab_type": "text",
    "id": "UopnLTeLkViX"
   },
   "source": [
    "<a name='1'></a>\n",
    "## 1. Import Packages\n",
    "\n",
    "We'll first import all the packages that we need for this assignment. \n",
    "\n",
    "- `lifelines` is an open-source library for data analysis.\n",
    "- `numpy` is the fundamental package for scientific computing in python.\n",
    "- `pandas` is what we'll use to manipulate our data.\n",
    "- `matplotlib` is a plotting library."
   ]
  },
  {
   "cell_type": "code",
   "execution_count": 1,
   "metadata": {
    "colab": {},
    "colab_type": "code",
    "id": "TZyXoADQmYlt"
   },
   "outputs": [],
   "source": [
    "import lifelines\n",
    "import numpy as np\n",
    "import pandas as pd\n",
    "import matplotlib.pyplot as plt\n",
    "\n",
    "#!pip3 install lifelines\n",
    "from lifelines import KaplanMeierFitter as KM\n",
    "from lifelines.statistics import logrank_test"
   ]
  },
  {
   "cell_type": "markdown",
   "metadata": {
    "colab_type": "text",
    "id": "5rp2TD1qnGmp"
   },
   "source": [
    "<a name='2'></a>\n",
    "## 2. Load the Dataset\n"
   ]
  },
  {
   "cell_type": "markdown",
   "metadata": {
    "colab_type": "text",
    "id": "WEbu3MtrVsnU"
   },
   "source": [
    "Run the next cell to load the lymphoma data set. "
   ]
  },
  {
   "cell_type": "code",
   "execution_count": 2,
   "metadata": {
    "colab": {},
    "colab_type": "code",
    "id": "e3wHdLrEnSNa"
   },
   "outputs": [],
   "source": [
    "from lifelines.datasets import load_lymphoma\n",
    "\n",
    "def load_data():\n",
    "    df = load_lymphoma()\n",
    "    df.loc[:, 'Event'] = df.Censor\n",
    "    df = df.drop(['Censor'], axis=1)\n",
    "    return df\n",
    "\n",
    "data = load_data()"
   ]
  },
  {
   "cell_type": "markdown",
   "metadata": {
    "colab_type": "text",
    "id": "3hrHa0dPqU08"
   },
   "source": [
    "As always, you first look over your data."
   ]
  },
  {
   "cell_type": "code",
   "execution_count": 3,
   "metadata": {
    "colab": {
     "base_uri": "https://localhost:8080/",
     "height": 221
    },
    "colab_type": "code",
    "id": "QEd504pKqWuc",
    "outputId": "7297830a-d316-4623-bb6a-77f8f96b8805"
   },
   "outputs": [
    {
     "name": "stdout",
     "output_type": "stream",
     "text": [
      "data shape: (80, 3)\n"
     ]
    },
    {
     "data": {
      "text/html": [
       "<div>\n",
       "<style scoped>\n",
       "    .dataframe tbody tr th:only-of-type {\n",
       "        vertical-align: middle;\n",
       "    }\n",
       "\n",
       "    .dataframe tbody tr th {\n",
       "        vertical-align: top;\n",
       "    }\n",
       "\n",
       "    .dataframe thead th {\n",
       "        text-align: right;\n",
       "    }\n",
       "</style>\n",
       "<table border=\"1\" class=\"dataframe\">\n",
       "  <thead>\n",
       "    <tr style=\"text-align: right;\">\n",
       "      <th></th>\n",
       "      <th>Stage_group</th>\n",
       "      <th>Time</th>\n",
       "      <th>Event</th>\n",
       "    </tr>\n",
       "  </thead>\n",
       "  <tbody>\n",
       "    <tr>\n",
       "      <th>0</th>\n",
       "      <td>1</td>\n",
       "      <td>6</td>\n",
       "      <td>1</td>\n",
       "    </tr>\n",
       "    <tr>\n",
       "      <th>1</th>\n",
       "      <td>1</td>\n",
       "      <td>19</td>\n",
       "      <td>1</td>\n",
       "    </tr>\n",
       "    <tr>\n",
       "      <th>2</th>\n",
       "      <td>1</td>\n",
       "      <td>32</td>\n",
       "      <td>1</td>\n",
       "    </tr>\n",
       "    <tr>\n",
       "      <th>3</th>\n",
       "      <td>1</td>\n",
       "      <td>42</td>\n",
       "      <td>1</td>\n",
       "    </tr>\n",
       "    <tr>\n",
       "      <th>4</th>\n",
       "      <td>1</td>\n",
       "      <td>42</td>\n",
       "      <td>1</td>\n",
       "    </tr>\n",
       "  </tbody>\n",
       "</table>\n",
       "</div>"
      ],
      "text/plain": [
       "   Stage_group  Time  Event\n",
       "0            1     6      1\n",
       "1            1    19      1\n",
       "2            1    32      1\n",
       "3            1    42      1\n",
       "4            1    42      1"
      ]
     },
     "execution_count": 3,
     "metadata": {},
     "output_type": "execute_result"
    }
   ],
   "source": [
    "print(\"data shape: {}\".format(data.shape))\n",
    "data.head()"
   ]
  },
  {
   "cell_type": "markdown",
   "metadata": {
    "colab_type": "text",
    "id": "dblUOLQS4UU0"
   },
   "source": [
    "The column `Time` states how long the patient lived before they died or were censored.\n",
    "\n",
    "The column `Event` says whether a death was observed or not. `Event` is 1 if the event is observed (i.e. the patient died) and 0 if data was censored.\n",
    "\n",
    "Censorship here means that the observation has ended without any observed event.\n",
    "For example, let a patient be in a hospital for 100 days at most. If a patient dies after only 44 days, their event will be recorded as `Time = 44` and `Event = 1`. If a patient walks out after 100 days and dies 3 days later (103 days total), this event is not observed in our process and the corresponding row has `Time = 100` and `Event = 0`. If a patient survives for 25 years after being admitted, their data for are still `Time = 100` and `Event = 0`."
   ]
  },
  {
   "cell_type": "markdown",
   "metadata": {
    "colab_type": "text",
    "id": "L0d2s2wtn2Pf"
   },
   "source": [
    "<a name='3'></a>\n",
    "## 3. Censored Data\n",
    "\n",
    "We can plot a histogram of the survival times to see in general how long cases survived before censorship or events."
   ]
  },
  {
   "cell_type": "code",
   "execution_count": 4,
   "metadata": {
    "colab": {
     "base_uri": "https://localhost:8080/",
     "height": 285
    },
    "colab_type": "code",
    "id": "cFrvXrODZklx",
    "outputId": "a260b523-e792-47dd-9833-7677cd4b5741"
   },
   "outputs": [
    {
     "data": {
      "image/png": "[encoded data removed]",
      "text/plain": [
       "<Figure size 432x288 with 1 Axes>"
      ]
     },
     "metadata": {
      "needs_background": "light"
     },
     "output_type": "display_data"
    }
   ],
   "source": [
    "data.Time.hist();\n",
    "plt.xlabel(\"Observation time before death or censorship (days)\");\n",
    "plt.ylabel(\"Frequency (number of patients)\");\n",
    "# Note that the semicolon at the end of the plotting line\n",
    "# silences unnecessary textual output - try removing it\n",
    "# to observe its effect"
   ]
  },
  {
   "cell_type": "markdown",
   "metadata": {
    "colab_type": "text",
    "id": "ohXd70ZBaRWJ"
   },
   "source": [
    "<a name='Ex-1'></a>\n",
    "### Exercise 1\n",
    "\n",
    "In the next cell, write a function to compute the fraction ($\\in [0, 1]$) of observations which were censored. "
   ]
  },
  {
   "cell_type": "markdown",
   "metadata": {},
   "source": [
    "<details>    \n",
    "<summary>\n",
    "    <font size=\"3\" color=\"darkgreen\"><b>Hints</b></font>\n",
    "</summary>\n",
    "<p>\n",
    "<ul>\n",
    "    <li>Summing up the <code>'Event'</code> column will give you the number of observations where censorship has NOT occurred.</li>\n",
    "    \n",
    "</ul>\n",
    "</p>"
   ]
  },
  {
   "cell_type": "code",
   "execution_count": 5,
   "metadata": {
    "colab": {
     "base_uri": "https://localhost:8080/",
     "height": 34
    },
    "colab_type": "code",
    "id": "9fkHnfJ6bD0f",
    "outputId": "21ec0301-5884-48f2-8ed1-10795d567c31"
   },
   "outputs": [],
   "source": [
    "# UNQ_C1 (UNIQUE CELL IDENTIFIER, DO NOT EDIT)\n",
    "def frac_censored(df):\n",
    "    \"\"\"\n",
    "    Return percent of observations which were censored.\n",
    "    \n",
    "    Args:\n",
    "        df (dataframe): dataframe which contains column 'Event' which is \n",
    "                        1 if an event occurred (death)\n",
    "                        0 if the event did not occur (censored)\n",
    "    Returns:\n",
    "        frac_censored (float): fraction of cases which were censored. \n",
    "    \"\"\"\n",
    "    \n",
    "    ### START CODE HERE ###\n",
    "    censored_count = sum(df['Event']==0)\n",
    "    result = censored_count / len(df['Event'])\n",
    "    ### END CODE HERE ###\n",
    "    \n",
    "    return result"
   ]
  },
  {
   "cell_type": "code",
   "execution_count": 6,
   "metadata": {},
   "outputs": [
    {
     "name": "stdout",
     "output_type": "stream",
     "text": [
      "0.325\n"
     ]
    }
   ],
   "source": [
    "print(frac_censored(data))"
   ]
  },
  {
   "cell_type": "markdown",
   "metadata": {},
   "source": [
    "#### Expected Output:\n",
    "```CPP\n",
    "0.325\n",
    "```"
   ]
  },
  {
   "cell_type": "markdown",
   "metadata": {
    "colab_type": "text",
    "id": "BpzYWXUpbk6x"
   },
   "source": [
    "Run the next cell to see the distributions of survival times for censored and uncensored examples."
   ]
  },
  {
   "cell_type": "code",
   "execution_count": 7,
   "metadata": {
    "colab": {
     "base_uri": "https://localhost:8080/",
     "height": 545
    },
    "colab_type": "code",
    "id": "1k3qlTQLbulW",
    "outputId": "de331041-6612-4df7-953d-41efbc741e49"
   },
   "outputs": [
    {
     "data": {
      "image/png": "[encoded data removed]",
      "text/plain": [
       "<Figure size 1008x288 with 2 Axes>"
      ]
     },
     "metadata": {
      "needs_background": "light"
     },
     "output_type": "display_data"
    }
   ],
   "source": [
    "df_censored = data[data.Event == 0]\n",
    "df_uncensored = data[data.Event == 1]\n",
    "\n",
    "plt.figure(figsize=(14,4))\n",
    "\n",
    "plt.subplot(121)\n",
    "df_censored.Time.hist()\n",
    "plt.title(\"Censored\")\n",
    "plt.xlabel(\"Time (days)\")\n",
    "plt.ylabel(\"Frequency\")\n",
    "\n",
    "plt.subplot(122)\n",
    "df_uncensored.Time.hist()\n",
    "plt.title(\"Uncensored\")\n",
    "plt.xlabel(\"Time (days)\")\n",
    "plt.ylabel(\"Frequency\")\n",
    "\n",
    "plt.show()"
   ]
  },
  {
   "cell_type": "markdown",
   "metadata": {
    "colab_type": "text",
    "id": "WmFDrzYrn-JA"
   },
   "source": [
    "<a name='4'></a>\n",
    "## 4. Survival Estimates\n",
    "\n",
    "We'll now try to estimate the survival function:\n",
    "\n",
    "$$\n",
    "S(t) = P(T > t)\n",
    "$$\n",
    "\n",
    "To illustrate the strengths of Kaplan Meier, we'll start with a naive estimator of the above survival function. To estimate this quantity, we'll divide the number of people who we know lived past time $t$ by the number of people who were not censored before $t$.\n",
    "\n",
    "Formally, let $i$ = 1, ..., $n$ be the cases, and let $t_i$ be the time when $i$ was censored or an event happened. Let $e_i= 1$ if an event was observed for $i$ and 0 otherwise. Then let $X_t = \\{i : T_i > t\\}$, and let $M_t = \\{i : e_i = 1 \\text{ or } T_i > t\\}$. The estimator you will compute will be:\n",
    "\n",
    "$$\n",
    "\\hat{S}(t) = \\frac{|X_t|}{|M_t|}\n",
    "$$\n",
    "\n"
   ]
  },
  {
   "cell_type": "markdown",
   "metadata": {},
   "source": [
    "<a name='Ex-2'></a>\n",
    "### Exercise 2\n",
    "Write a function to compute this estimate for arbitrary $t$ in the cell below."
   ]
  },
  {
   "cell_type": "code",
   "execution_count": 8,
   "metadata": {
    "colab": {
     "base_uri": "https://localhost:8080/",
     "height": 306
    },
    "colab_type": "code",
    "id": "qUoKpBHJjZM-",
    "outputId": "9477925d-ee39-4489-e8be-9af3780f9fc4"
   },
   "outputs": [],
   "source": [
    "# UNQ_C2 (UNIQUE CELL IDENTIFIER, DO NOT EDIT)\n",
    "def naive_estimator(t, df):\n",
    "    \"\"\"\n",
    "    Return naive estimate for S(t), the probability\n",
    "    of surviving past time t. Given by number\n",
    "    of cases who survived past time t divided by the\n",
    "    number of cases who weren't censored before time t.\n",
    "    \n",
    "    Args:\n",
    "        t (int): query time\n",
    "        df (dataframe): survival data. Has a Time column,\n",
    "                        which says how long until that case\n",
    "                        experienced an event or was censored,\n",
    "                        and an Event column, which is 1 if an event\n",
    "                        was observed and 0 otherwise.\n",
    "    Returns:\n",
    "        S_t (float): estimator for survival function evaluated at t.\n",
    "    \"\"\"\n",
    "    S_t = 0.0\n",
    "    \n",
    "    ### START CODE HERE ###    \n",
    "    X = sum( dff.Time > t )\n",
    "    M = sum( (dff.Time>t) | (dff.Event==1) )\n",
    "    S_t = X/M\n",
    "    ### END CODE HERE ###\n",
    "    \n",
    "    return S_t"
   ]
  },
  {
   "cell_type": "code",
   "execution_count": 9,
   "metadata": {},
   "outputs": [
    {
     "name": "stdout",
     "output_type": "stream",
     "text": [
      "3 3\n"
     ]
    },
    {
     "data": {
      "text/html": [
       "<div>\n",
       "<style scoped>\n",
       "    .dataframe tbody tr th:only-of-type {\n",
       "        vertical-align: middle;\n",
       "    }\n",
       "\n",
       "    .dataframe tbody tr th {\n",
       "        vertical-align: top;\n",
       "    }\n",
       "\n",
       "    .dataframe thead th {\n",
       "        text-align: right;\n",
       "    }\n",
       "</style>\n",
       "<table border=\"1\" class=\"dataframe\">\n",
       "  <thead>\n",
       "    <tr style=\"text-align: right;\">\n",
       "      <th></th>\n",
       "      <th>Time</th>\n",
       "      <th>Event</th>\n",
       "    </tr>\n",
       "  </thead>\n",
       "  <tbody>\n",
       "    <tr>\n",
       "      <th>0</th>\n",
       "      <td>5</td>\n",
       "      <td>0</td>\n",
       "    </tr>\n",
       "    <tr>\n",
       "      <th>1</th>\n",
       "      <td>10</td>\n",
       "      <td>1</td>\n",
       "    </tr>\n",
       "    <tr>\n",
       "      <th>2</th>\n",
       "      <td>15</td>\n",
       "      <td>0</td>\n",
       "    </tr>\n",
       "  </tbody>\n",
       "</table>\n",
       "</div>"
      ],
      "text/plain": [
       "   Time  Event\n",
       "0     5      0\n",
       "1    10      1\n",
       "2    15      0"
      ]
     },
     "execution_count": 9,
     "metadata": {},
     "output_type": "execute_result"
    }
   ],
   "source": [
    "# My test\n",
    "\n",
    "dff = pd.DataFrame(columns = [\"Time\", \"Event\"])\n",
    "dff.Time = [5, 10, 15]\n",
    "dff.Event = [0, 1, 0]\n",
    "\n",
    "t=1\n",
    "xx=sum(dff.Time >  t)\n",
    "mm=sum( (dff.Time>t) | (dff.Event==1))\n",
    "\n",
    "print (xx, mm)\n",
    "dff.head()\n"
   ]
  },
  {
   "cell_type": "code",
   "execution_count": 10,
   "metadata": {},
   "outputs": [
    {
     "name": "stdout",
     "output_type": "stream",
     "text": [
      "Test Cases\n",
      "Sample dataframe for testing code:\n",
      "   Time  Event\n",
      "0     5      0\n",
      "1    10      1\n",
      "2    15      0\n",
      "\n",
      "\n",
      "Test Case 1: S(3)\n",
      "Output: 1.0, Expected: 1.0\n",
      "\n",
      "Test Case 2: S(12)\n",
      "Output: 0.5, Expected: 0.5\n",
      "\n",
      "Test Case 3: S(20)\n",
      "Output: 0.0, Expected: 0.0\n",
      "\n",
      "Test case 4: S(5)\n",
      "Output: 1.0, Expected: 0.5\n"
     ]
    }
   ],
   "source": [
    "print(\"Test Cases\")\n",
    "\n",
    "sample_df = pd.DataFrame(columns = [\"Time\", \"Event\"])\n",
    "sample_df.Time = [5, 10, 15]\n",
    "sample_df.Event = [0, 1, 0]\n",
    "print(\"Sample dataframe for testing code:\")\n",
    "print(sample_df)\n",
    "print(\"\\n\")\n",
    "\n",
    "print(\"Test Case 1: S(3)\")\n",
    "print(\"Output: {}, Expected: {}\\n\".format(naive_estimator(3, sample_df), 1.0))\n",
    "\n",
    "print(\"Test Case 2: S(12)\")\n",
    "print(\"Output: {}, Expected: {}\\n\".format(naive_estimator(12, sample_df), 0.5))\n",
    "\n",
    "print(\"Test Case 3: S(20)\")\n",
    "print(\"Output: {}, Expected: {}\\n\".format(naive_estimator(20, sample_df), 0.0))\n",
    "\n",
    "# Test case 4\n",
    "sample_df = pd.DataFrame({'Time': [5,5,10],\n",
    "                          'Event': [0,1,0]\n",
    "                         })\n",
    "print(\"Test case 4: S(5)\")\n",
    "print(f\"Output: {naive_estimator(5, sample_df)}, Expected: 0.5\")"
   ]
  },
  {
   "cell_type": "markdown",
   "metadata": {
    "colab_type": "text",
    "id": "gKMsSOzfmGwD"
   },
   "source": [
    "In the next cell, we will plot the naive estimator using the real data up to the maximum time in the dataset. "
   ]
  },
  {
   "cell_type": "code",
   "execution_count": 11,
   "metadata": {
    "colab": {
     "base_uri": "https://localhost:8080/",
     "height": 281
    },
    "colab_type": "code",
    "id": "nauOrVd9mNDs",
    "outputId": "fc884506-6758-4d22-ab04-6310145f9ed3"
   },
   "outputs": [
    {
     "data": {
      "image/png": "[encoded data removed]",
      "text/plain": [
       "<Figure size 432x288 with 1 Axes>"
      ]
     },
     "metadata": {
      "needs_background": "light"
     },
     "output_type": "display_data"
    }
   ],
   "source": [
    "max_time = data.Time.max()\n",
    "x = range(0, max_time+1)\n",
    "y = np.zeros(len(x))\n",
    "for i, t in enumerate(x):\n",
    "    y[i] = naive_estimator(t, data)\n",
    "    \n",
    "plt.plot(x, y, '-o')\n",
    "plt.title(\"Naive Survival Estimate\")\n",
    "plt.xlabel(\"Time\")\n",
    "plt.ylabel(\"Estimated cumulative survival rate\")\n",
    "plt.show()"
   ]
  },
  {
   "cell_type": "markdown",
   "metadata": {
    "colab_type": "text",
    "id": "jg4VTizxqgKM"
   },
   "source": [
    "<a name='Ex-3'></a>\n",
    "### Exercise 3\n",
    "\n",
    "Next let's compare this with the Kaplan Meier estimate. In the cell below, write a function that computes the Kaplan Meier estimate of $S(t)$ at every distinct time in the dataset. \n",
    "\n",
    "Recall the Kaplan-Meier estimate:\n",
    "\n",
    "$$\n",
    "S(t) = \\prod_{t_i \\leq t} (1 - \\frac{d_i}{n_i})\n",
    "$$\n",
    "\n",
    "where $t_i$ are the events observed in the dataset and $d_i$ is the number of deaths at time $t_i$ and $n_i$ is the number of people who we know have survived up to time $t_i$."
   ]
  },
  {
   "cell_type": "markdown",
   "metadata": {},
   "source": [
    "<details>    \n",
    "<summary>\n",
    "    <font size=\"3\" color=\"darkgreen\"><b>Hints</b></font>\n",
    "</summary>\n",
    "<p>\n",
    "<ul>\n",
    "    <li>Try sorting by Time.</li>\n",
    "    <li>Use <a href=\"https://pandas.pydata.org/pandas-docs/stable/reference/api/pandas.Series.unique.html\">pandas.Series.unique<a> </li>\n",
    "    <li>If you get a division by zero error, please double-check how you calculated `n_t`</li>\n",
    "</ul>\n",
    "</p>"
   ]
  },
  {
   "cell_type": "code",
   "execution_count": 12,
   "metadata": {
    "colab": {
     "base_uri": "https://localhost:8080/",
     "height": 527
    },
    "colab_type": "code",
    "id": "jnwysrz7CzNG",
    "outputId": "a26f0a84-98c2-4fe2-c40e-b18402f8bf20"
   },
   "outputs": [],
   "source": [
    "# UNQ_C3 (UNIQUE CELL IDENTIFIER, DO NOT EDIT)\n",
    "def HomemadeKM(df):\n",
    "    \"\"\"\n",
    "    Return KM estimate evaluated at every distinct\n",
    "    time (event or censored) recorded in the dataset.\n",
    "    Event times and probabilities should begin with\n",
    "    time 0 and probability 1.\n",
    "    \n",
    "    Example:\n",
    "    \n",
    "    input: \n",
    "    \n",
    "         Time  Censor\n",
    "    0     5       0\n",
    "    1    10       1\n",
    "    2    15       0\n",
    "    \n",
    "    correct output: \n",
    "    \n",
    "    event_times: [0, 5, 10, 15]\n",
    "    S: [1.0, 1.0, 0.5, 0.5]\n",
    "    \n",
    "    Args:\n",
    "        df (dataframe): dataframe which has columns for Time\n",
    "                          and Event, defined as usual.\n",
    "                          \n",
    "    Returns:\n",
    "        event_times (list of ints): array of unique event times\n",
    "                                      (begins with 0).\n",
    "        S (list of floats): array of survival probabilites, so that\n",
    "                            S[i] = P(T > event_times[i]). This \n",
    "                            begins with 1.0 (since no one dies at time\n",
    "                            0).\n",
    "    \"\"\"\n",
    "    # individuals are considered to have survival probability 1\n",
    "    # at time 0\n",
    "    event_times = [0]\n",
    "    p = 1.0\n",
    "    S = [p]\n",
    "    \n",
    "    ### START CODE HERE (REPLACE INSTANCES OF 'None' with your code) ###\n",
    "\n",
    "    # get collection of unique observed event times\n",
    "    observed_event_times = df[\"Time\"].unique()\n",
    "  \n",
    "    # sort event times\n",
    "    observed_event_times = sorted(observed_event_times)\n",
    "    \n",
    "    # iterate through event times\n",
    "    for t in observed_event_times:\n",
    "  \n",
    "        # compute n_t, number of people who survive to time t\n",
    "        n_t = sum(df.Time >= t)\n",
    "  \n",
    "        # compute d_t, number of people who die at time t\n",
    "        d_t = sum( (df.Time==t) & ((df.Event == 1)) )\n",
    "        \n",
    "        # update p\n",
    "        p = p* (1. - d_t/n_t)\n",
    "  \n",
    "        # update S and event_times (ADD code below)\n",
    "        # hint: use append\n",
    "        event_times.append(t)\n",
    "        S.append(p)\n",
    "        #None\n",
    "    \n",
    "    ### END CODE HERE ###\n",
    "  \n",
    "    return event_times, S"
   ]
  },
  {
   "cell_type": "code",
   "execution_count": 13,
   "metadata": {},
   "outputs": [
    {
     "name": "stdout",
     "output_type": "stream",
     "text": [
      "   Time  Event\n",
      "0     5      0\n",
      "1     5      1\n",
      "2    10      0\n",
      "[ 5 10 15]\n",
      "[5, 10, 15]\n"
     ]
    }
   ],
   "source": [
    "dff = pd.DataFrame(columns = [\"Time\", \"Event\"])\n",
    "dff.Time = [5, 10, 15]\n",
    "dff.Event = [0, 1, 0]\n",
    "print(sample_df)\n",
    "\n",
    "print ( dff.Time.unique() )\n",
    "\n",
    "dff_time = dff[\"Time\"].unique()\n",
    "dff_time = sorted(dff_time)\n",
    "\n",
    "print ( dff_time)\n"
   ]
  },
  {
   "cell_type": "code",
   "execution_count": 14,
   "metadata": {},
   "outputs": [
    {
     "name": "stdout",
     "output_type": "stream",
     "text": [
      "TEST CASES:\n",
      "\n",
      "Test Case 1\n",
      "\n",
      "Test DataFrame:\n",
      "   Time  Event\n",
      "0     5      0\n",
      "1    10      1\n",
      "2    15      0\n",
      "\n",
      "Output:\n",
      "Event times: [0, 5, 10, 15], Survival Probabilities: [1.0, 1.0, 0.5, 0.5]\n",
      "\n",
      "Expected:\n",
      "Event times: [0, 5, 10, 15], Survival Probabilities: [1.0, 1.0, 0.5, 0.5]\n",
      "\n",
      "Test Case 2\n",
      "\n",
      "Test DataFrame:\n",
      "   Time  Event\n",
      "0     2      0\n",
      "1    15      0\n",
      "2    12      1\n",
      "3    10      1\n",
      "4    20      1\n",
      "\n",
      "Output:\n",
      "Event times: [0, 2, 10, 12, 15, 20], Survival Probabilities: [1.0, 1.0, 0.75, 0.5, 0.5, 0.0]\n",
      "\n",
      "Expected:\n",
      "Event times: [0, 2, 10, 12, 15, 20], Survival Probabilities: [1.0, 1.0, 0.75, 0.5, 0.5, 0.0]\n"
     ]
    }
   ],
   "source": [
    "print(\"TEST CASES:\\n\")\n",
    "\n",
    "print(\"Test Case 1\\n\")\n",
    "\n",
    "print(\"Test DataFrame:\")\n",
    "sample_df = pd.DataFrame(columns = [\"Time\", \"Event\"])\n",
    "sample_df.Time = [5, 10, 15]\n",
    "sample_df.Event = [0, 1, 0]\n",
    "print(sample_df.head())\n",
    "print(\"\\nOutput:\")\n",
    "x, y = HomemadeKM(sample_df)\n",
    "print(\"Event times: {}, Survival Probabilities: {}\".format(x, y))\n",
    "print(\"\\nExpected:\")\n",
    "print(\"Event times: [0, 5, 10, 15], Survival Probabilities: [1.0, 1.0, 0.5, 0.5]\")\n",
    "\n",
    "print(\"\\nTest Case 2\\n\")\n",
    "\n",
    "print(\"Test DataFrame:\")\n",
    "\n",
    "sample_df = pd.DataFrame(columns = [\"Time\", \"Event\"])\n",
    "sample_df.loc[:, \"Time\"] = [2, 15, 12, 10, 20]\n",
    "sample_df.loc[:, \"Event\"] = [0, 0, 1, 1, 1]\n",
    "print(sample_df.head())\n",
    "print(\"\\nOutput:\")\n",
    "x, y = HomemadeKM(sample_df)\n",
    "print(\"Event times: {}, Survival Probabilities: {}\".format(x, y))\n",
    "print(\"\\nExpected:\")\n",
    "print(\"Event times: [0, 2, 10, 12, 15, 20], Survival Probabilities: [1.0, 1.0, 0.75, 0.5, 0.5, 0.0]\")"
   ]
  },
  {
   "cell_type": "markdown",
   "metadata": {
    "colab_type": "text",
    "id": "G7OAiWjS7hLA"
   },
   "source": [
    "Now let's plot the two against each other on the data to see the difference."
   ]
  },
  {
   "cell_type": "code",
   "execution_count": 15,
   "metadata": {
    "colab": {
     "base_uri": "https://localhost:8080/",
     "height": 265
    },
    "colab_type": "code",
    "id": "JbPlC5717gM_",
    "outputId": "06553ed7-9396-4f16-eab3-43a1c6ecddfd",
    "scrolled": true
   },
   "outputs": [
    {
     "data": {
      "text/plain": [
       "<matplotlib.legend.Legend at 0x12039baf0>"
      ]
     },
     "execution_count": 15,
     "metadata": {},
     "output_type": "execute_result"
    },
    {
     "data": {
      "image/png": "[encoded data removed]",
      "text/plain": [
       "<Figure size 432x288 with 1 Axes>"
      ]
     },
     "metadata": {
      "needs_background": "light"
     },
     "output_type": "display_data"
    }
   ],
   "source": [
    "max_time = data.Time.max()\n",
    "x = range(0, max_time+1)\n",
    "y = np.zeros(len(x))\n",
    "for i, t in enumerate(x):\n",
    "    y[i] = naive_estimator(t, data)\n",
    "    \n",
    "plt.plot(x, y, label=\"Naive\")\n",
    "\n",
    "x, y = HomemadeKM(data)\n",
    "plt.step(x, y, label=\"Kaplan-Meier\")\n",
    "plt.xlabel(\"Time\")\n",
    "plt.ylabel(\"Survival probability estimate\")\n",
    "plt.legend()\n"
   ]
  },
  {
   "cell_type": "markdown",
   "metadata": {
    "colab_type": "text",
    "id": "iY__6ufG3sDk"
   },
   "source": [
    "### Question\n",
    "\n",
    "What differences do you observe between the naive estimator and Kaplan-Meier estimator? Do any of our earlier explorations of the dataset help to explain these differences?"
   ]
  },
  {
   "cell_type": "markdown",
   "metadata": {
    "colab_type": "text",
    "id": "i7tElIKVoQ4R"
   },
   "source": [
    "<a name='5'></a>\n",
    "## 5. Subgroup Analysis\n",
    "\n",
    "We see that along with Time and Censor, we have a column called `Stage_group`. \n",
    "- A value of 1 in this column denotes a patient with stage III cancer\n",
    "- A value of 2 denotes stage IV. \n",
    "\n",
    "We want to compare the survival functions of these two groups.\n",
    "\n",
    "This time we'll use the `KaplanMeierFitter` class from `lifelines`. Run the next cell to fit and plot the Kaplan Meier curves for each group. "
   ]
  },
  {
   "cell_type": "code",
   "execution_count": 16,
   "metadata": {
    "colab": {
     "base_uri": "https://localhost:8080/",
     "height": 279
    },
    "colab_type": "code",
    "id": "Ge6P3fgVrZLS",
    "outputId": "efbf8e54-7623-4d96-e24a-2fbf07ae2aac"
   },
   "outputs": [
    {
     "data": {
      "text/plain": [
       "Text(0, 0.5, 'Survival probability estimate')"
      ]
     },
     "execution_count": 16,
     "metadata": {},
     "output_type": "execute_result"
    },
    {
     "data": {
      "image/png": "[encoded data removed]",
      "text/plain": [
       "<Figure size 432x288 with 1 Axes>"
      ]
     },
     "metadata": {
      "needs_background": "light"
     },
     "output_type": "display_data"
    }
   ],
   "source": [
    "S1 = data[data.Stage_group == 1]\n",
    "km1 = KM()\n",
    "km1.fit(S1.loc[:, 'Time'], event_observed = S1.loc[:, 'Event'], label = 'Stage III')\n",
    "\n",
    "S2 = data[data.Stage_group == 2]\n",
    "km2 = KM()\n",
    "km2.fit(S2.loc[:, \"Time\"], event_observed = S2.loc[:, 'Event'], label = 'Stage IV')\n",
    "\n",
    "ax = km1.plot(ci_show=False)\n",
    "km2.plot(ax = ax, ci_show=False)\n",
    "plt.xlabel('time')\n",
    "plt.ylabel('Survival probability estimate')\n"
   ]
  },
  {
   "cell_type": "markdown",
   "metadata": {
    "colab_type": "text",
    "id": "M4DwaOVEs19Q"
   },
   "source": [
    "Let's compare the survival functions at 90, 180, 270, and 360 days"
   ]
  },
  {
   "cell_type": "code",
   "execution_count": 17,
   "metadata": {
    "colab": {},
    "colab_type": "code",
    "id": "11dhdsUOtEqe"
   },
   "outputs": [],
   "source": [
    "survivals = pd.DataFrame([90, 180, 270, 360], columns = ['time'])\n",
    "survivals.loc[:, 'Group 1'] = km1.survival_function_at_times(survivals['time']).values\n",
    "survivals.loc[:, 'Group 2'] = km2.survival_function_at_times(survivals['time']).values"
   ]
  },
  {
   "cell_type": "code",
   "execution_count": 18,
   "metadata": {
    "colab": {
     "base_uri": "https://localhost:8080/",
     "height": 173
    },
    "colab_type": "code",
    "id": "-zRlM1SAtYdl",
    "outputId": "3642dc3e-01b0-4e96-e91f-8e39c6c0e3e5"
   },
   "outputs": [
    {
     "data": {
      "text/html": [
       "<div>\n",
       "<style scoped>\n",
       "    .dataframe tbody tr th:only-of-type {\n",
       "        vertical-align: middle;\n",
       "    }\n",
       "\n",
       "    .dataframe tbody tr th {\n",
       "        vertical-align: top;\n",
       "    }\n",
       "\n",
       "    .dataframe thead th {\n",
       "        text-align: right;\n",
       "    }\n",
       "</style>\n",
       "<table border=\"1\" class=\"dataframe\">\n",
       "  <thead>\n",
       "    <tr style=\"text-align: right;\">\n",
       "      <th></th>\n",
       "      <th>time</th>\n",
       "      <th>Group 1</th>\n",
       "      <th>Group 2</th>\n",
       "    </tr>\n",
       "  </thead>\n",
       "  <tbody>\n",
       "    <tr>\n",
       "      <th>0</th>\n",
       "      <td>90</td>\n",
       "      <td>0.736842</td>\n",
       "      <td>0.424529</td>\n",
       "    </tr>\n",
       "    <tr>\n",
       "      <th>1</th>\n",
       "      <td>180</td>\n",
       "      <td>0.680162</td>\n",
       "      <td>0.254066</td>\n",
       "    </tr>\n",
       "    <tr>\n",
       "      <th>2</th>\n",
       "      <td>270</td>\n",
       "      <td>0.524696</td>\n",
       "      <td>0.195436</td>\n",
       "    </tr>\n",
       "    <tr>\n",
       "      <th>3</th>\n",
       "      <td>360</td>\n",
       "      <td>0.524696</td>\n",
       "      <td>0.195436</td>\n",
       "    </tr>\n",
       "  </tbody>\n",
       "</table>\n",
       "</div>"
      ],
      "text/plain": [
       "   time   Group 1   Group 2\n",
       "0    90  0.736842  0.424529\n",
       "1   180  0.680162  0.254066\n",
       "2   270  0.524696  0.195436\n",
       "3   360  0.524696  0.195436"
      ]
     },
     "execution_count": 18,
     "metadata": {},
     "output_type": "execute_result"
    }
   ],
   "source": [
    "survivals"
   ]
  },
  {
   "cell_type": "markdown",
   "metadata": {
    "colab_type": "text",
    "id": "RA3amMk__J6e"
   },
   "source": [
    "This makes clear the difference in survival between the Stage III and IV cancer groups in the dataset. "
   ]
  },
  {
   "cell_type": "markdown",
   "metadata": {
    "colab_type": "text",
    "id": "3VoOQREQoXny"
   },
   "source": [
    "<a name='5-1'></a>\n",
    "## 5.1 Bonus: Log-Rank Test\n",
    "\n",
    "To say whether there is a statistical difference between the survival curves we can run the log-rank test. This test tells us the probability that we could observe this data if the two curves were the same. The derivation of the log-rank test is somewhat complicated, but luckily `lifelines` has a simple function to compute it. \n",
    "\n",
    "Run the next cell to compute a p-value using `lifelines.statistics.logrank_test`."
   ]
  },
  {
   "cell_type": "code",
   "execution_count": 19,
   "metadata": {
    "colab": {
     "base_uri": "https://localhost:8080/",
     "height": 34
    },
    "colab_type": "code",
    "id": "_7-QIy8ovsgC",
    "outputId": "c7582d94-4c42-4cae-d83d-72a8873fe985"
   },
   "outputs": [
    {
     "data": {
      "text/plain": [
       "0.009588929834755544"
      ]
     },
     "execution_count": 19,
     "metadata": {},
     "output_type": "execute_result"
    }
   ],
   "source": [
    "def logrank_p_value(group_1_data, group_2_data):\n",
    "    result = logrank_test(group_1_data.Time, group_2_data.Time,\n",
    "                          group_1_data.Event, group_2_data.Event)\n",
    "    return result.p_value\n",
    "\n",
    "logrank_p_value(S1, S2)"
   ]
  },
  {
   "cell_type": "markdown",
   "metadata": {
    "colab_type": "text",
    "id": "nUbv_csdJRSw"
   },
   "source": [
    "If everything is correct, you should see a p value of less than `0.05`, which indicates that the difference in the curves is indeed statistically significant."
   ]
  },
  {
   "cell_type": "markdown",
   "metadata": {},
   "source": [
    "# Congratulations!\n",
    "\n",
    "You've completed the third assignment of Course 2. You've learned about the Kaplan Meier estimator, a fundamental non-parametric estimator in survival analysis. Next week we'll learn how to take into account patient covariates in our survival estimates!"
   ]
  }
 ],
 "metadata": {
  "colab": {
   "collapsed_sections": [
    "3VoOQREQoXny"
   ],
   "include_colab_link": true,
   "name": "C2M3_Assignment.ipynb",
   "provenance": [],
   "toc_visible": true
  },
  "coursera": {
   "schema_names": [
    "AI4MC2-3"
   ]
  },
  "kernelspec": {
   "display_name": "Python 3",
   "language": "python",
   "name": "python3"
  },
  "language_info": {
   "codemirror_mode": {
    "name": "ipython",
    "version": 3
   },
   "file_extension": ".py",
   "mimetype": "text/x-python",
   "name": "python",
   "nbconvert_exporter": "python",
   "pygments_lexer": "ipython3",
   "version": "3.8.4"
  }
 },
 "nbformat": 4,
 "nbformat_minor": 4
}
